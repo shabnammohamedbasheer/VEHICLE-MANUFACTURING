{
 "cells": [
  {
   "cell_type": "code",
   "execution_count": 1,
   "id": "94440a38",
   "metadata": {},
   "outputs": [],
   "source": [
    "import pandas as pd\n",
    "import numpy as np\n",
    "import matplotlib.pyplot as plt\n",
    "import seaborn as sns"
   ]
  },
  {
   "cell_type": "code",
   "execution_count": 3,
   "id": "f242601e",
   "metadata": {},
   "outputs": [
    {
     "data": {
      "text/html": [
       "<div>\n",
       "<style scoped>\n",
       "    .dataframe tbody tr th:only-of-type {\n",
       "        vertical-align: middle;\n",
       "    }\n",
       "\n",
       "    .dataframe tbody tr th {\n",
       "        vertical-align: top;\n",
       "    }\n",
       "\n",
       "    .dataframe thead th {\n",
       "        text-align: right;\n",
       "    }\n",
       "</style>\n",
       "<table border=\"1\" class=\"dataframe\">\n",
       "  <thead>\n",
       "    <tr style=\"text-align: right;\">\n",
       "      <th></th>\n",
       "      <th>Brand</th>\n",
       "      <th>Model</th>\n",
       "      <th>Year</th>\n",
       "      <th>Color</th>\n",
       "      <th>Mileage</th>\n",
       "      <th>Price</th>\n",
       "      <th>Location</th>\n",
       "    </tr>\n",
       "    <tr>\n",
       "      <th>Car ID</th>\n",
       "      <th></th>\n",
       "      <th></th>\n",
       "      <th></th>\n",
       "      <th></th>\n",
       "      <th></th>\n",
       "      <th></th>\n",
       "      <th></th>\n",
       "    </tr>\n",
       "  </thead>\n",
       "  <tbody>\n",
       "    <tr>\n",
       "      <th>1</th>\n",
       "      <td>Toyota</td>\n",
       "      <td>Camry</td>\n",
       "      <td>2018</td>\n",
       "      <td>White</td>\n",
       "      <td>45000</td>\n",
       "      <td>18000</td>\n",
       "      <td>Los Angeles</td>\n",
       "    </tr>\n",
       "    <tr>\n",
       "      <th>2</th>\n",
       "      <td>Honda</td>\n",
       "      <td>Civic</td>\n",
       "      <td>2019</td>\n",
       "      <td>Blue</td>\n",
       "      <td>35000</td>\n",
       "      <td>16000</td>\n",
       "      <td>New York</td>\n",
       "    </tr>\n",
       "    <tr>\n",
       "      <th>3</th>\n",
       "      <td>Ford</td>\n",
       "      <td>Focus</td>\n",
       "      <td>2017</td>\n",
       "      <td>Silver</td>\n",
       "      <td>55000</td>\n",
       "      <td>14000</td>\n",
       "      <td>Chicago</td>\n",
       "    </tr>\n",
       "    <tr>\n",
       "      <th>4</th>\n",
       "      <td>Chevrolet</td>\n",
       "      <td>Cruze</td>\n",
       "      <td>2016</td>\n",
       "      <td>Red</td>\n",
       "      <td>60000</td>\n",
       "      <td>12000</td>\n",
       "      <td>Miami</td>\n",
       "    </tr>\n",
       "    <tr>\n",
       "      <th>5</th>\n",
       "      <td>Hyundai</td>\n",
       "      <td>Elantra</td>\n",
       "      <td>2018</td>\n",
       "      <td>Black</td>\n",
       "      <td>40000</td>\n",
       "      <td>15000</td>\n",
       "      <td>San Francisco</td>\n",
       "    </tr>\n",
       "  </tbody>\n",
       "</table>\n",
       "</div>"
      ],
      "text/plain": [
       "            Brand    Model  Year   Color  Mileage  Price       Location\n",
       "Car ID                                                                 \n",
       "1          Toyota    Camry  2018   White    45000  18000    Los Angeles\n",
       "2           Honda    Civic  2019    Blue    35000  16000       New York\n",
       "3            Ford    Focus  2017  Silver    55000  14000        Chicago\n",
       "4       Chevrolet    Cruze  2016     Red    60000  12000          Miami\n",
       "5         Hyundai  Elantra  2018   Black    40000  15000  San Francisco"
      ]
     },
     "execution_count": 3,
     "metadata": {},
     "output_type": "execute_result"
    }
   ],
   "source": [
    "df=pd.read_csv(\"vehicle_manufacturing.csv\",index_col=0)\n",
    "df.head()"
   ]
  },
  {
   "cell_type": "code",
   "execution_count": 4,
   "id": "36e663f8",
   "metadata": {},
   "outputs": [
    {
     "data": {
      "text/plain": [
       "14000"
      ]
     },
     "execution_count": 4,
     "metadata": {},
     "output_type": "execute_result"
    }
   ],
   "source": [
    "df.size"
   ]
  },
  {
   "cell_type": "code",
   "execution_count": 5,
   "id": "0bccc861",
   "metadata": {},
   "outputs": [
    {
     "data": {
      "text/plain": [
       "(2000, 7)"
      ]
     },
     "execution_count": 5,
     "metadata": {},
     "output_type": "execute_result"
    }
   ],
   "source": [
    "df.shape"
   ]
  },
  {
   "cell_type": "code",
   "execution_count": 11,
   "id": "4ceeada7",
   "metadata": {},
   "outputs": [
    {
     "data": {
      "text/plain": [
       "Brand       0\n",
       "Model       0\n",
       "Year        0\n",
       "Color       0\n",
       "Mileage     0\n",
       "Price       0\n",
       "Location    0\n",
       "dtype: int64"
      ]
     },
     "execution_count": 11,
     "metadata": {},
     "output_type": "execute_result"
    }
   ],
   "source": [
    "df.isna().sum()#there is no null values in the data "
   ]
  },
  {
   "cell_type": "code",
   "execution_count": 12,
   "id": "af1578a5",
   "metadata": {},
   "outputs": [
    {
     "data": {
      "text/plain": [
       "116"
      ]
     },
     "execution_count": 12,
     "metadata": {},
     "output_type": "execute_result"
    }
   ],
   "source": [
    "df.duplicated().sum()"
   ]
  },
  {
   "cell_type": "code",
   "execution_count": 13,
   "id": "58299a5f",
   "metadata": {},
   "outputs": [],
   "source": [
    "df.drop_duplicates(inplace=True)"
   ]
  },
  {
   "cell_type": "code",
   "execution_count": 14,
   "id": "7b6dc357",
   "metadata": {},
   "outputs": [
    {
     "data": {
      "text/html": [
       "<div>\n",
       "<style scoped>\n",
       "    .dataframe tbody tr th:only-of-type {\n",
       "        vertical-align: middle;\n",
       "    }\n",
       "\n",
       "    .dataframe tbody tr th {\n",
       "        vertical-align: top;\n",
       "    }\n",
       "\n",
       "    .dataframe thead th {\n",
       "        text-align: right;\n",
       "    }\n",
       "</style>\n",
       "<table border=\"1\" class=\"dataframe\">\n",
       "  <thead>\n",
       "    <tr style=\"text-align: right;\">\n",
       "      <th></th>\n",
       "      <th>count</th>\n",
       "      <th>unique</th>\n",
       "      <th>top</th>\n",
       "      <th>freq</th>\n",
       "      <th>mean</th>\n",
       "      <th>std</th>\n",
       "      <th>min</th>\n",
       "      <th>25%</th>\n",
       "      <th>50%</th>\n",
       "      <th>75%</th>\n",
       "      <th>max</th>\n",
       "    </tr>\n",
       "  </thead>\n",
       "  <tbody>\n",
       "    <tr>\n",
       "      <th>Brand</th>\n",
       "      <td>1884</td>\n",
       "      <td>5</td>\n",
       "      <td>Toyota</td>\n",
       "      <td>413</td>\n",
       "      <td>NaN</td>\n",
       "      <td>NaN</td>\n",
       "      <td>NaN</td>\n",
       "      <td>NaN</td>\n",
       "      <td>NaN</td>\n",
       "      <td>NaN</td>\n",
       "      <td>NaN</td>\n",
       "    </tr>\n",
       "    <tr>\n",
       "      <th>Model</th>\n",
       "      <td>1884</td>\n",
       "      <td>68</td>\n",
       "      <td>Civic</td>\n",
       "      <td>103</td>\n",
       "      <td>NaN</td>\n",
       "      <td>NaN</td>\n",
       "      <td>NaN</td>\n",
       "      <td>NaN</td>\n",
       "      <td>NaN</td>\n",
       "      <td>NaN</td>\n",
       "      <td>NaN</td>\n",
       "    </tr>\n",
       "    <tr>\n",
       "      <th>Year</th>\n",
       "      <td>1884.0</td>\n",
       "      <td>NaN</td>\n",
       "      <td>NaN</td>\n",
       "      <td>NaN</td>\n",
       "      <td>2017.456476</td>\n",
       "      <td>1.703988</td>\n",
       "      <td>2015.0</td>\n",
       "      <td>2016.0</td>\n",
       "      <td>2017.0</td>\n",
       "      <td>2019.0</td>\n",
       "      <td>2020.0</td>\n",
       "    </tr>\n",
       "    <tr>\n",
       "      <th>Color</th>\n",
       "      <td>1884</td>\n",
       "      <td>7</td>\n",
       "      <td>White</td>\n",
       "      <td>375</td>\n",
       "      <td>NaN</td>\n",
       "      <td>NaN</td>\n",
       "      <td>NaN</td>\n",
       "      <td>NaN</td>\n",
       "      <td>NaN</td>\n",
       "      <td>NaN</td>\n",
       "      <td>NaN</td>\n",
       "    </tr>\n",
       "    <tr>\n",
       "      <th>Mileage</th>\n",
       "      <td>1884.0</td>\n",
       "      <td>NaN</td>\n",
       "      <td>NaN</td>\n",
       "      <td>NaN</td>\n",
       "      <td>47369.957537</td>\n",
       "      <td>11129.59291</td>\n",
       "      <td>25000.0</td>\n",
       "      <td>40000.0</td>\n",
       "      <td>50000.0</td>\n",
       "      <td>55000.0</td>\n",
       "      <td>70000.0</td>\n",
       "    </tr>\n",
       "    <tr>\n",
       "      <th>Price</th>\n",
       "      <td>1884.0</td>\n",
       "      <td>NaN</td>\n",
       "      <td>NaN</td>\n",
       "      <td>NaN</td>\n",
       "      <td>19675.159236</td>\n",
       "      <td>4770.082763</td>\n",
       "      <td>12000.0</td>\n",
       "      <td>16000.0</td>\n",
       "      <td>19000.0</td>\n",
       "      <td>23000.0</td>\n",
       "      <td>29000.0</td>\n",
       "    </tr>\n",
       "    <tr>\n",
       "      <th>Location</th>\n",
       "      <td>1884</td>\n",
       "      <td>10</td>\n",
       "      <td>Los Angeles</td>\n",
       "      <td>226</td>\n",
       "      <td>NaN</td>\n",
       "      <td>NaN</td>\n",
       "      <td>NaN</td>\n",
       "      <td>NaN</td>\n",
       "      <td>NaN</td>\n",
       "      <td>NaN</td>\n",
       "      <td>NaN</td>\n",
       "    </tr>\n",
       "  </tbody>\n",
       "</table>\n",
       "</div>"
      ],
      "text/plain": [
       "           count unique          top freq          mean          std      min  \\\n",
       "Brand       1884      5       Toyota  413           NaN          NaN      NaN   \n",
       "Model       1884     68        Civic  103           NaN          NaN      NaN   \n",
       "Year      1884.0    NaN          NaN  NaN   2017.456476     1.703988   2015.0   \n",
       "Color       1884      7        White  375           NaN          NaN      NaN   \n",
       "Mileage   1884.0    NaN          NaN  NaN  47369.957537  11129.59291  25000.0   \n",
       "Price     1884.0    NaN          NaN  NaN  19675.159236  4770.082763  12000.0   \n",
       "Location    1884     10  Los Angeles  226           NaN          NaN      NaN   \n",
       "\n",
       "              25%      50%      75%      max  \n",
       "Brand         NaN      NaN      NaN      NaN  \n",
       "Model         NaN      NaN      NaN      NaN  \n",
       "Year       2016.0   2017.0   2019.0   2020.0  \n",
       "Color         NaN      NaN      NaN      NaN  \n",
       "Mileage   40000.0  50000.0  55000.0  70000.0  \n",
       "Price     16000.0  19000.0  23000.0  29000.0  \n",
       "Location      NaN      NaN      NaN      NaN  "
      ]
     },
     "execution_count": 14,
     "metadata": {},
     "output_type": "execute_result"
    }
   ],
   "source": [
    "df.describe(include=\"all\").T"
   ]
  },
  {
   "cell_type": "markdown",
   "id": "27fb3215",
   "metadata": {},
   "source": [
    "- THERE 1884 D data points in which there 5 unique brands\n",
    "- toyota is the most manufactured brand with a frequency of 413\n",
    "- there were 7 unique colors in which white was with a top frequency of 375\n",
    "- within 10 unique locations los angeles was with top with a frequency of 226\n",
    "- the average price of car is 19675\n",
    "- from the present statistics there is no observable outliers \n",
    "- lets get deep into the data"
   ]
  },
  {
   "cell_type": "code",
   "execution_count": 15,
   "id": "5c2fde27",
   "metadata": {},
   "outputs": [
    {
     "data": {
      "text/html": [
       "<div>\n",
       "<style scoped>\n",
       "    .dataframe tbody tr th:only-of-type {\n",
       "        vertical-align: middle;\n",
       "    }\n",
       "\n",
       "    .dataframe tbody tr th {\n",
       "        vertical-align: top;\n",
       "    }\n",
       "\n",
       "    .dataframe thead th {\n",
       "        text-align: right;\n",
       "    }\n",
       "</style>\n",
       "<table border=\"1\" class=\"dataframe\">\n",
       "  <thead>\n",
       "    <tr style=\"text-align: right;\">\n",
       "      <th></th>\n",
       "      <th>Brand</th>\n",
       "      <th>Model</th>\n",
       "      <th>Year</th>\n",
       "      <th>Color</th>\n",
       "      <th>Mileage</th>\n",
       "      <th>Price</th>\n",
       "      <th>Location</th>\n",
       "    </tr>\n",
       "    <tr>\n",
       "      <th>Car ID</th>\n",
       "      <th></th>\n",
       "      <th></th>\n",
       "      <th></th>\n",
       "      <th></th>\n",
       "      <th></th>\n",
       "      <th></th>\n",
       "      <th></th>\n",
       "    </tr>\n",
       "  </thead>\n",
       "  <tbody>\n",
       "    <tr>\n",
       "      <th>1</th>\n",
       "      <td>Toyota</td>\n",
       "      <td>Camry</td>\n",
       "      <td>2018</td>\n",
       "      <td>White</td>\n",
       "      <td>45000</td>\n",
       "      <td>18000</td>\n",
       "      <td>Los Angeles</td>\n",
       "    </tr>\n",
       "    <tr>\n",
       "      <th>2</th>\n",
       "      <td>Honda</td>\n",
       "      <td>Civic</td>\n",
       "      <td>2019</td>\n",
       "      <td>Blue</td>\n",
       "      <td>35000</td>\n",
       "      <td>16000</td>\n",
       "      <td>New York</td>\n",
       "    </tr>\n",
       "    <tr>\n",
       "      <th>3</th>\n",
       "      <td>Ford</td>\n",
       "      <td>Focus</td>\n",
       "      <td>2017</td>\n",
       "      <td>Silver</td>\n",
       "      <td>55000</td>\n",
       "      <td>14000</td>\n",
       "      <td>Chicago</td>\n",
       "    </tr>\n",
       "    <tr>\n",
       "      <th>4</th>\n",
       "      <td>Chevrolet</td>\n",
       "      <td>Cruze</td>\n",
       "      <td>2016</td>\n",
       "      <td>Red</td>\n",
       "      <td>60000</td>\n",
       "      <td>12000</td>\n",
       "      <td>Miami</td>\n",
       "    </tr>\n",
       "    <tr>\n",
       "      <th>5</th>\n",
       "      <td>Hyundai</td>\n",
       "      <td>Elantra</td>\n",
       "      <td>2018</td>\n",
       "      <td>Black</td>\n",
       "      <td>40000</td>\n",
       "      <td>15000</td>\n",
       "      <td>San Francisco</td>\n",
       "    </tr>\n",
       "  </tbody>\n",
       "</table>\n",
       "</div>"
      ],
      "text/plain": [
       "            Brand    Model  Year   Color  Mileage  Price       Location\n",
       "Car ID                                                                 \n",
       "1          Toyota    Camry  2018   White    45000  18000    Los Angeles\n",
       "2           Honda    Civic  2019    Blue    35000  16000       New York\n",
       "3            Ford    Focus  2017  Silver    55000  14000        Chicago\n",
       "4       Chevrolet    Cruze  2016     Red    60000  12000          Miami\n",
       "5         Hyundai  Elantra  2018   Black    40000  15000  San Francisco"
      ]
     },
     "execution_count": 15,
     "metadata": {},
     "output_type": "execute_result"
    }
   ],
   "source": [
    "df.head()"
   ]
  },
  {
   "cell_type": "code",
   "execution_count": 20,
   "id": "f4f49d31",
   "metadata": {},
   "outputs": [
    {
     "data": {
      "text/plain": [
       "array(['Toyota', 'Honda', 'Ford', 'Chevrolet', 'Hyundai'], dtype=object)"
      ]
     },
     "execution_count": 20,
     "metadata": {},
     "output_type": "execute_result"
    }
   ],
   "source": [
    "df[\"Brand\"].unique()"
   ]
  },
  {
   "cell_type": "markdown",
   "id": "99ff98ed",
   "metadata": {},
   "source": [
    "- toyota , honda , ford , chevorlet , hyundai are the 5 unique branches we are dealing with"
   ]
  },
  {
   "cell_type": "code",
   "execution_count": 21,
   "id": "3c043839",
   "metadata": {},
   "outputs": [
    {
     "data": {
      "text/plain": [
       "<Axes: xlabel='Brand', ylabel='count'>"
      ]
     },
     "execution_count": 21,
     "metadata": {},
     "output_type": "execute_result"
    },
    {
     "data": {
      "image/png": "[encoded data removed]",
      "text/plain": [
       "<Figure size 640x480 with 1 Axes>"
      ]
     },
     "metadata": {},
     "output_type": "display_data"
    }
   ],
   "source": [
    "sns.countplot(df,x=\"Brand\")"
   ]
  },
  {
   "cell_type": "markdown",
   "id": "8ab26911",
   "metadata": {},
   "source": [
    "- toyota is the most manufactured vehicle followed by honda and chevorlet\n",
    "- there are no much differences in the count but toyota comes at top \n",
    "- may be toyota is preferred by more customers as there are many models which comes affordable as well as luxury also\n",
    "- compared in the above data ford is coming least may be customers dont prefer for much compared to the other four categories "
   ]
  },
  {
   "cell_type": "code",
   "execution_count": 23,
   "id": "d2ade126",
   "metadata": {},
   "outputs": [
    {
     "data": {
      "text/plain": [
       "array([2018, 2019, 2017, 2016, 2020, 2015], dtype=int64)"
      ]
     },
     "execution_count": 23,
     "metadata": {},
     "output_type": "execute_result"
    }
   ],
   "source": [
    "df[\"Year\"].unique()#we are dealing with data from 2015-2020"
   ]
  },
  {
   "cell_type": "code",
   "execution_count": null,
   "id": "55314a77",
   "metadata": {},
   "outputs": [],
   "source": []
  },
  {
   "cell_type": "code",
   "execution_count": 59,
   "id": "84177d03",
   "metadata": {},
   "outputs": [
    {
     "data": {
      "text/plain": [
       "<matplotlib.legend.Legend at 0x163b46a9810>"
      ]
     },
     "execution_count": 59,
     "metadata": {},
     "output_type": "execute_result"
    },
    {
     "data": {
      "image/png": "[encoded data removed]",
      "text/plain": [
       "<Figure size 640x480 with 1 Axes>"
      ]
     },
     "metadata": {},
     "output_type": "display_data"
    }
   ],
   "source": [
    "sns.countplot(df,x=\"Year\",hue=\"Brand\")\n",
    "plt.legend(bbox_to_anchor=(1.5,1), loc='upper right')"
   ]
  },
  {
   "cell_type": "code",
   "execution_count": null,
   "id": "eeb593a9",
   "metadata": {},
   "outputs": [],
   "source": [
    "- 2017 was the year toyota was manufactured more\n",
    "- ford is comparitively less manufactured , may be due to"
   ]
  },
  {
   "cell_type": "code",
   "execution_count": 82,
   "id": "6a19562c",
   "metadata": {},
   "outputs": [
    {
     "data": {
      "text/plain": [
       "2015    326\n",
       "2017    322\n",
       "2019    320\n",
       "2016    317\n",
       "2018    304\n",
       "2020    295\n",
       "Name: Year, dtype: int64"
      ]
     },
     "execution_count": 82,
     "metadata": {},
     "output_type": "execute_result"
    }
   ],
   "source": [
    "df[\"Year\"].value_counts()"
   ]
  },
  {
   "cell_type": "code",
   "execution_count": 60,
   "id": "3052e61d",
   "metadata": {},
   "outputs": [
    {
     "data": {
      "text/plain": [
       "<Axes: xlabel='Year', ylabel='count'>"
      ]
     },
     "execution_count": 60,
     "metadata": {},
     "output_type": "execute_result"
    },
    {
     "data": {
      "image/png": "[encoded data removed]",
      "text/plain": [
       "<Figure size 640x480 with 1 Axes>"
      ]
     },
     "metadata": {},
     "output_type": "display_data"
    }
   ],
   "source": [
    "sns.countplot(df,x=\"Year\")"
   ]
  },
  {
   "cell_type": "markdown",
   "id": "fa1313ee",
   "metadata": {},
   "source": [
    "- when the year was analysed wrto count of manufactured vehicles its seen that 2015 was the most followed by 2017 and 2019\n",
    "- 2020 manufactured least its clear that it was the year the pandemic approached the world covid-19 which took hold of most businesses during that time and also the employees also were less during that time\n"
   ]
  },
  {
   "cell_type": "code",
   "execution_count": 27,
   "id": "b0c9dd49",
   "metadata": {},
   "outputs": [
    {
     "data": {
      "text/plain": [
       "<Axes: xlabel='Color', ylabel='count'>"
      ]
     },
     "execution_count": 27,
     "metadata": {},
     "output_type": "execute_result"
    },
    {
     "data": {
      "image/png": "[encoded data removed]",
      "text/plain": [
       "<Figure size 640x480 with 1 Axes>"
      ]
     },
     "metadata": {},
     "output_type": "display_data"
    }
   ],
   "source": [
    "sns.countplot(df,x=\"Color\")"
   ]
  },
  {
   "cell_type": "markdown",
   "id": "348661e4",
   "metadata": {},
   "source": [
    "- we can see that white color is preferred more lets see why : \n",
    "    - temperature control as it reflects sunlight more than darker shades which keeps the car cooler\n",
    "    - resale value it may have higher resale value as it is a neutral and timeless color\n",
    "    - visibility as it will be easily visible even during low light condition and at night\n",
    "    - ease of maintenance \n",
    "    - perceived size as it can give an impression of a larger car and spacious too\n",
    "- after white blue is preferred more lets see :\n",
    "    - perceived coolness  associated with calmness, serenity, and a sense of coolness. \n",
    "    - Wide Range of Shades: Blue comes in a variety of shades, from light and pastel blues to deep and vibrant blues\n",
    "    - Timelessness: Certain shades of blue are considered timeless and classic, contributing to the enduring popularity of blue cars. Classic navy or royal blue, for example, can convey a sense of sophistication.\n",
    "    - Visibility: Similar to white cars, some shades of blue are highly visible, which can enhance safety on the road\n",
    "    - Association with Nature: Many shades of blue are associated with the sky and the ocean, evoking feelings of tranquility and connection with nature\n",
    "    - Personal Preferences: Individual preferences play a significant role in color choices\n",
    "    - Customization Options: Car manufacturers often offer a variety of color options for their models, including different shades of blue\n",
    "- yellow is prefered less lets see why\n",
    "    - Visibility Concerns: Yellow is a highly visible color, which can be beneficial for safety on the road. However, some individuals might find it too attention-grabbing or bold for their personal taste\n",
    "    - Association with Specific Styles or Eras: Yellow cars may be associated with specific styles or eras, and some people might consider them outdated or too flashy.\n",
    "    - Resale Value Concerns: Some people may be concerned about the resale value of yellow cars. Neutral colors like black, white, silver, and gray are often considered more timeless and may have broader appeal in the used car market.\n",
    "    - Maintenance Challenges: Yellow cars can show dirt, stains, and imperfections more prominently than some other colors. \n",
    "    - Limited Availability: Yellow might not be as widely available as more traditional colors when it comes to certain car models\n",
    "    - Cultural and Regional Influences: Color preferences can be influenced by cultural and regional factors"
   ]
  },
  {
   "cell_type": "code",
   "execution_count": 29,
   "id": "c4d350e7",
   "metadata": {},
   "outputs": [
    {
     "data": {
      "text/plain": [
       "array(['Camry', 'Civic', 'Focus', 'Cruze', 'Elantra', 'Corolla', 'Accord',\n",
       "       'Mustang', 'Impala', 'Sonata', 'Rav4', 'CR-V', 'Escape', 'Equinox',\n",
       "       'Kona', 'Highlander', 'Pilot', 'Explorer', 'Traverse', 'Santa Fe',\n",
       "       '4Runner', 'Odyssey', 'Edge', 'Tahoe', 'Palisade', 'Sienna', 'Fit',\n",
       "       'Fusion', 'Malibu', 'Venue', 'Yaris', 'HR-V', 'EcoSport', 'Spark',\n",
       "       'Accent', 'Prius', 'Fiesta', 'Camaro', 'Genesis', 'Avalon',\n",
       "       'Tucson', 'Rav5', 'Rav6', 'Rav7', 'Rav8', 'Rav9', 'Rav10', 'Rav11',\n",
       "       'Rav12', 'Rav13', 'Rav14', 'Rav15', 'Rav16', 'Rav17', 'Rav18',\n",
       "       'Rav19', 'Rav20', 'Rav21', 'Rav22', 'Rav23', 'Rav24', 'Rav25',\n",
       "       'Rav26', 'Rav27', 'Rav28', 'Rav29', 'Rav30', 'Rav31'], dtype=object)"
      ]
     },
     "execution_count": 29,
     "metadata": {},
     "output_type": "execute_result"
    }
   ],
   "source": [
    "df[\"Model\"].unique()"
   ]
  },
  {
   "cell_type": "code",
   "execution_count": 36,
   "id": "183d8c7c",
   "metadata": {},
   "outputs": [
    {
     "data": {
      "text/plain": [
       "Model    Brand   Year\n",
       "4Runner  Toyota  2020    12\n",
       "                 2015    11\n",
       "                 2016     8\n",
       "                 2017     8\n",
       "                 2019     6\n",
       "                         ..\n",
       "Yaris    Toyota  2016     9\n",
       "                 2017     9\n",
       "                 2019     9\n",
       "                 2015     8\n",
       "                 2020     3\n",
       "Name: Year, Length: 289, dtype: int64"
      ]
     },
     "execution_count": 36,
     "metadata": {},
     "output_type": "execute_result"
    }
   ],
   "source": [
    "df.groupby([\"Model\",\"Brand\"])[\"Year\"].value_counts()"
   ]
  },
  {
   "cell_type": "code",
   "execution_count": 39,
   "id": "bac2c200",
   "metadata": {},
   "outputs": [
    {
     "data": {
      "text/plain": [
       "Camry         73\n",
       "Corolla       54\n",
       "Sienna        53\n",
       "4Runner       50\n",
       "Yaris         49\n",
       "Highlander    28\n",
       "Avalon        26\n",
       "Prius         25\n",
       "Rav24          2\n",
       "Rav20          2\n",
       "Rav21          2\n",
       "Rav22          2\n",
       "Rav23          2\n",
       "Rav28          2\n",
       "Rav25          2\n",
       "Rav26          2\n",
       "Rav27          2\n",
       "Rav18          2\n",
       "Rav29          2\n",
       "Rav30          2\n",
       "Rav19          2\n",
       "Rav14          2\n",
       "Rav17          2\n",
       "Rav16          2\n",
       "Rav15          2\n",
       "Rav13          2\n",
       "Rav12          2\n",
       "Rav11          2\n",
       "Rav10          2\n",
       "Rav9           2\n",
       "Rav8           2\n",
       "Rav7           2\n",
       "Rav6           2\n",
       "Rav5           2\n",
       "Rav4           2\n",
       "Rav31          1\n",
       "Name: Model, dtype: int64"
      ]
     },
     "execution_count": 39,
     "metadata": {},
     "output_type": "execute_result"
    }
   ],
   "source": [
    "df.groupby(\"Brand\").get_group(\"Toyota\")[\"Model\"].value_counts()"
   ]
  },
  {
   "cell_type": "code",
   "execution_count": 41,
   "id": "d7fd8c01",
   "metadata": {},
   "outputs": [
    {
     "data": {
      "text/plain": [
       "<Axes: >"
      ]
     },
     "execution_count": 41,
     "metadata": {},
     "output_type": "execute_result"
    },
    {
     "data": {
      "image/png": "[encoded data removed]",
      "text/plain": [
       "<Figure size 640x480 with 1 Axes>"
      ]
     },
     "metadata": {},
     "output_type": "display_data"
    }
   ],
   "source": [
    "df.groupby(\"Brand\").get_group(\"Toyota\")[\"Model\"].value_counts().head(15).plot(kind=\"bar\")"
   ]
  },
  {
   "cell_type": "markdown",
   "id": "12446977",
   "metadata": {},
   "source": [
    "- camry is the most manufactured vehicle in the model toyota followed by corolla\n",
    "- the reasons for camry may be reliability,fuel efficiency,resale value,comfort,interior quality,consistent updates and redesigns,brand loyality,affordability\\\n",
    "- corolla also have the above reasons for its more manufacture\n",
    "- rav 31 was the least manufactured , but toyota didnt manufactured such a model till time, there can be some mistakes in the data...it has to be analysed in depth\n",
    "- as far of my knowledge toyota rav 4 is the model ,in which there are specifications but rav 24,rav20,rav 21 etc are not there\n",
    "- rav4 is the model , i think the other number that comes with rav must have been some error,when checked the value counts for str that contains rav it had 55 count which tells its manufactured more than corolla\n"
   ]
  },
  {
   "cell_type": "code",
   "execution_count": 48,
   "id": "3248f7d2",
   "metadata": {},
   "outputs": [
    {
     "data": {
      "text/plain": [
       "False    1829\n",
       "True       55\n",
       "Name: Model, dtype: int64"
      ]
     },
     "execution_count": 48,
     "metadata": {},
     "output_type": "execute_result"
    }
   ],
   "source": [
    "df[\"Model\"].str.contains(\"Rav\").value_counts()"
   ]
  },
  {
   "cell_type": "code",
   "execution_count": 53,
   "id": "4c92dbae",
   "metadata": {},
   "outputs": [
    {
     "data": {
      "text/plain": [
       "Civic         103\n",
       "Camry          73\n",
       "Fusion         69\n",
       "Cruze          55\n",
       "Pilot          54\n",
       "Corolla        54\n",
       "Accord         54\n",
       "Impala         54\n",
       "Escape         54\n",
       "Elantra        53\n",
       "Sienna         53\n",
       "Equinox        52\n",
       "Santa Fe       52\n",
       "Explorer       52\n",
       "CR-V           52\n",
       "Sonata         52\n",
       "Mustang        52\n",
       "Fit            51\n",
       "Malibu         50\n",
       "Traverse       50\n",
       "Venue          50\n",
       "4Runner        50\n",
       "Odyssey        50\n",
       "Tahoe          49\n",
       "Yaris          49\n",
       "Edge           49\n",
       "Palisade       49\n",
       "Highlander     28\n",
       "Camaro         27\n",
       "Genesis        27\n",
       "Name: Model, dtype: int64"
      ]
     },
     "execution_count": 53,
     "metadata": {},
     "output_type": "execute_result"
    }
   ],
   "source": [
    "df[\"Model\"].value_counts().head(30)"
   ]
  },
  {
   "cell_type": "markdown",
   "id": "1c289cdb",
   "metadata": {},
   "source": [
    "- even toyota is the more manufactured brand civic is the most number of manufactured car in the data\n",
    "- "
   ]
  },
  {
   "cell_type": "code",
   "execution_count": 55,
   "id": "9660153f",
   "metadata": {},
   "outputs": [
    {
     "data": {
      "text/plain": [
       "Civic      103\n",
       "Accord      54\n",
       "Pilot       54\n",
       "CR-V        52\n",
       "Fit         51\n",
       "Odyssey     50\n",
       "HR-V        25\n",
       "Name: Model, dtype: int64"
      ]
     },
     "execution_count": 55,
     "metadata": {},
     "output_type": "execute_result"
    }
   ],
   "source": [
    "df.groupby(\"Brand\").get_group(\"Honda\")[\"Model\"].value_counts()"
   ]
  },
  {
   "cell_type": "code",
   "execution_count": 84,
   "id": "ecac6b1a",
   "metadata": {},
   "outputs": [
    {
     "data": {
      "text/plain": [
       "Cruze       55\n",
       "Impala      54\n",
       "Equinox     52\n",
       "Traverse    50\n",
       "Malibu      50\n",
       "Tahoe       49\n",
       "Spark       27\n",
       "Camaro      27\n",
       "Name: Model, dtype: int64"
      ]
     },
     "execution_count": 84,
     "metadata": {},
     "output_type": "execute_result"
    }
   ],
   "source": [
    "df.groupby(\"Brand\").get_group(\"Chevrolet\")[\"Model\"].value_counts()"
   ]
  },
  {
   "cell_type": "code",
   "execution_count": 87,
   "id": "6650f7e8",
   "metadata": {},
   "outputs": [
    {
     "data": {
      "text/plain": [
       "Fusion      69\n",
       "Escape      54\n",
       "Mustang     52\n",
       "Explorer    52\n",
       "Edge        49\n",
       "Focus       27\n",
       "EcoSport    26\n",
       "Fiesta      25\n",
       "Name: Model, dtype: int64"
      ]
     },
     "execution_count": 87,
     "metadata": {},
     "output_type": "execute_result"
    }
   ],
   "source": [
    "df.groupby(\"Brand\").get_group(\"Ford\")[\"Model\"].value_counts()"
   ]
  },
  {
   "cell_type": "code",
   "execution_count": 89,
   "id": "752052b1",
   "metadata": {},
   "outputs": [
    {
     "data": {
      "text/plain": [
       "Elantra     53\n",
       "Sonata      52\n",
       "Santa Fe    52\n",
       "Venue       50\n",
       "Palisade    49\n",
       "Kona        27\n",
       "Accent      27\n",
       "Genesis     27\n",
       "Tucson      27\n",
       "Name: Model, dtype: int64"
      ]
     },
     "execution_count": 89,
     "metadata": {},
     "output_type": "execute_result"
    }
   ],
   "source": [
    "df.groupby(\"Brand\").get_group(\"Hyundai\")[\"Model\"].value_counts()"
   ]
  },
  {
   "cell_type": "code",
   "execution_count": 56,
   "id": "20b784cc",
   "metadata": {},
   "outputs": [
    {
     "data": {
      "text/plain": [
       "<Axes: >"
      ]
     },
     "execution_count": 56,
     "metadata": {},
     "output_type": "execute_result"
    },
    {
     "data": {
      "image/png": "[encoded data removed]",
      "text/plain": [
       "<Figure size 640x480 with 1 Axes>"
      ]
     },
     "metadata": {},
     "output_type": "display_data"
    }
   ],
   "source": [
    "df.groupby(\"Brand\").get_group(\"Honda\")[\"Model\"].value_counts().plot(kind=\"bar\")"
   ]
  },
  {
   "cell_type": "markdown",
   "id": "3b6022f2",
   "metadata": {},
   "source": [
    "- civic is preferred more globally because of many reasons like fuel efficiency,versality,reliability,value for money,strong global presence,etc\n",
    "- accord is also preferred much but not as much as civic\n",
    "- pilot,crv,odyssey,hrv are suv category vehicles which brings down in demand compared to civic as they are luxurious as well as fuel efficiency will be less comparitively"
   ]
  },
  {
   "cell_type": "code",
   "execution_count": 57,
   "id": "67c83bf3",
   "metadata": {},
   "outputs": [
    {
     "data": {
      "text/html": [
       "<div>\n",
       "<style scoped>\n",
       "    .dataframe tbody tr th:only-of-type {\n",
       "        vertical-align: middle;\n",
       "    }\n",
       "\n",
       "    .dataframe tbody tr th {\n",
       "        vertical-align: top;\n",
       "    }\n",
       "\n",
       "    .dataframe thead th {\n",
       "        text-align: right;\n",
       "    }\n",
       "</style>\n",
       "<table border=\"1\" class=\"dataframe\">\n",
       "  <thead>\n",
       "    <tr style=\"text-align: right;\">\n",
       "      <th></th>\n",
       "      <th>Brand</th>\n",
       "      <th>Model</th>\n",
       "      <th>Year</th>\n",
       "      <th>Color</th>\n",
       "      <th>Mileage</th>\n",
       "      <th>Price</th>\n",
       "      <th>Location</th>\n",
       "    </tr>\n",
       "    <tr>\n",
       "      <th>Car ID</th>\n",
       "      <th></th>\n",
       "      <th></th>\n",
       "      <th></th>\n",
       "      <th></th>\n",
       "      <th></th>\n",
       "      <th></th>\n",
       "      <th></th>\n",
       "    </tr>\n",
       "  </thead>\n",
       "  <tbody>\n",
       "    <tr>\n",
       "      <th>1</th>\n",
       "      <td>Toyota</td>\n",
       "      <td>Camry</td>\n",
       "      <td>2018</td>\n",
       "      <td>White</td>\n",
       "      <td>45000</td>\n",
       "      <td>18000</td>\n",
       "      <td>Los Angeles</td>\n",
       "    </tr>\n",
       "    <tr>\n",
       "      <th>2</th>\n",
       "      <td>Honda</td>\n",
       "      <td>Civic</td>\n",
       "      <td>2019</td>\n",
       "      <td>Blue</td>\n",
       "      <td>35000</td>\n",
       "      <td>16000</td>\n",
       "      <td>New York</td>\n",
       "    </tr>\n",
       "    <tr>\n",
       "      <th>3</th>\n",
       "      <td>Ford</td>\n",
       "      <td>Focus</td>\n",
       "      <td>2017</td>\n",
       "      <td>Silver</td>\n",
       "      <td>55000</td>\n",
       "      <td>14000</td>\n",
       "      <td>Chicago</td>\n",
       "    </tr>\n",
       "    <tr>\n",
       "      <th>4</th>\n",
       "      <td>Chevrolet</td>\n",
       "      <td>Cruze</td>\n",
       "      <td>2016</td>\n",
       "      <td>Red</td>\n",
       "      <td>60000</td>\n",
       "      <td>12000</td>\n",
       "      <td>Miami</td>\n",
       "    </tr>\n",
       "    <tr>\n",
       "      <th>5</th>\n",
       "      <td>Hyundai</td>\n",
       "      <td>Elantra</td>\n",
       "      <td>2018</td>\n",
       "      <td>Black</td>\n",
       "      <td>40000</td>\n",
       "      <td>15000</td>\n",
       "      <td>San Francisco</td>\n",
       "    </tr>\n",
       "  </tbody>\n",
       "</table>\n",
       "</div>"
      ],
      "text/plain": [
       "            Brand    Model  Year   Color  Mileage  Price       Location\n",
       "Car ID                                                                 \n",
       "1          Toyota    Camry  2018   White    45000  18000    Los Angeles\n",
       "2           Honda    Civic  2019    Blue    35000  16000       New York\n",
       "3            Ford    Focus  2017  Silver    55000  14000        Chicago\n",
       "4       Chevrolet    Cruze  2016     Red    60000  12000          Miami\n",
       "5         Hyundai  Elantra  2018   Black    40000  15000  San Francisco"
      ]
     },
     "execution_count": 57,
     "metadata": {},
     "output_type": "execute_result"
    }
   ],
   "source": [
    "df.head()"
   ]
  },
  {
   "cell_type": "code",
   "execution_count": 63,
   "id": "72cd5929",
   "metadata": {},
   "outputs": [],
   "source": [
    "mileage=pd.DataFrame(df.groupby([\"Brand\",\"Model\"])[\"Mileage\"].value_counts())"
   ]
  },
  {
   "cell_type": "code",
   "execution_count": 64,
   "id": "e6c75ce0",
   "metadata": {},
   "outputs": [
    {
     "data": {
      "text/html": [
       "<div>\n",
       "<style scoped>\n",
       "    .dataframe tbody tr th:only-of-type {\n",
       "        vertical-align: middle;\n",
       "    }\n",
       "\n",
       "    .dataframe tbody tr th {\n",
       "        vertical-align: top;\n",
       "    }\n",
       "\n",
       "    .dataframe thead th {\n",
       "        text-align: right;\n",
       "    }\n",
       "</style>\n",
       "<table border=\"1\" class=\"dataframe\">\n",
       "  <thead>\n",
       "    <tr style=\"text-align: right;\">\n",
       "      <th></th>\n",
       "      <th></th>\n",
       "      <th></th>\n",
       "      <th>Mileage</th>\n",
       "    </tr>\n",
       "    <tr>\n",
       "      <th>Brand</th>\n",
       "      <th>Model</th>\n",
       "      <th>Mileage</th>\n",
       "      <th></th>\n",
       "    </tr>\n",
       "  </thead>\n",
       "  <tbody>\n",
       "    <tr>\n",
       "      <th rowspan=\"5\" valign=\"top\">Chevrolet</th>\n",
       "      <th rowspan=\"5\" valign=\"top\">Camaro</th>\n",
       "      <th>35000</th>\n",
       "      <td>7</td>\n",
       "    </tr>\n",
       "    <tr>\n",
       "      <th>55000</th>\n",
       "      <td>7</td>\n",
       "    </tr>\n",
       "    <tr>\n",
       "      <th>45000</th>\n",
       "      <td>4</td>\n",
       "    </tr>\n",
       "    <tr>\n",
       "      <th>50000</th>\n",
       "      <td>3</td>\n",
       "    </tr>\n",
       "    <tr>\n",
       "      <th>30000</th>\n",
       "      <td>2</td>\n",
       "    </tr>\n",
       "    <tr>\n",
       "      <th>...</th>\n",
       "      <th>...</th>\n",
       "      <th>...</th>\n",
       "      <td>...</td>\n",
       "    </tr>\n",
       "    <tr>\n",
       "      <th rowspan=\"5\" valign=\"top\">Toyota</th>\n",
       "      <th rowspan=\"5\" valign=\"top\">Yaris</th>\n",
       "      <th>45000</th>\n",
       "      <td>4</td>\n",
       "    </tr>\n",
       "    <tr>\n",
       "      <th>70000</th>\n",
       "      <td>4</td>\n",
       "    </tr>\n",
       "    <tr>\n",
       "      <th>30000</th>\n",
       "      <td>2</td>\n",
       "    </tr>\n",
       "    <tr>\n",
       "      <th>25000</th>\n",
       "      <td>1</td>\n",
       "    </tr>\n",
       "    <tr>\n",
       "      <th>65000</th>\n",
       "      <td>1</td>\n",
       "    </tr>\n",
       "  </tbody>\n",
       "</table>\n",
       "<p>400 rows × 1 columns</p>\n",
       "</div>"
      ],
      "text/plain": [
       "                          Mileage\n",
       "Brand     Model  Mileage         \n",
       "Chevrolet Camaro 35000          7\n",
       "                 55000          7\n",
       "                 45000          4\n",
       "                 50000          3\n",
       "                 30000          2\n",
       "...                           ...\n",
       "Toyota    Yaris  45000          4\n",
       "                 70000          4\n",
       "                 30000          2\n",
       "                 25000          1\n",
       "                 65000          1\n",
       "\n",
       "[400 rows x 1 columns]"
      ]
     },
     "execution_count": 64,
     "metadata": {},
     "output_type": "execute_result"
    }
   ],
   "source": [
    "mileage"
   ]
  },
  {
   "cell_type": "code",
   "execution_count": 65,
   "id": "9e2ace3b",
   "metadata": {},
   "outputs": [
    {
     "data": {
      "text/plain": [
       "10"
      ]
     },
     "execution_count": 65,
     "metadata": {},
     "output_type": "execute_result"
    }
   ],
   "source": [
    "df[\"Mileage\"].nunique()"
   ]
  },
  {
   "cell_type": "code",
   "execution_count": 66,
   "id": "44f290d2",
   "metadata": {},
   "outputs": [
    {
     "data": {
      "text/plain": [
       "array([45000, 35000, 55000, 60000, 40000, 25000, 30000, 65000, 50000,\n",
       "       70000], dtype=int64)"
      ]
     },
     "execution_count": 66,
     "metadata": {},
     "output_type": "execute_result"
    }
   ],
   "source": [
    "df[\"Mileage\"].unique()"
   ]
  },
  {
   "cell_type": "markdown",
   "id": "0b1796f5",
   "metadata": {},
   "source": [
    "- here we can see above the unique values for mileage , all are above 30000\n",
    "- mileage generally refers to the kilometers a vehicle can travel with a litre of petrol\n",
    "- but here the values are very high as the values are this high we can assume that as the odometer reading but still that also become meaningless as we are dealing with automobile manufacturing...because a newly manufactured vehicle cant show this much kms in the odometer also\n",
    "- this values need to be taken into regard"
   ]
  },
  {
   "cell_type": "code",
   "execution_count": 68,
   "id": "7b1106fe",
   "metadata": {},
   "outputs": [
    {
     "data": {
      "text/plain": [
       "array(['Los Angeles', 'New York', 'Chicago', 'Miami', 'San Francisco',\n",
       "       'Dallas', 'Atlanta', 'Phoenix', 'Houston', 'Seattle'], dtype=object)"
      ]
     },
     "execution_count": 68,
     "metadata": {},
     "output_type": "execute_result"
    }
   ],
   "source": [
    "df[\"Location\"].unique()"
   ]
  },
  {
   "cell_type": "code",
   "execution_count": 69,
   "id": "9dfcd4a5",
   "metadata": {},
   "outputs": [
    {
     "data": {
      "text/plain": [
       "10"
      ]
     },
     "execution_count": 69,
     "metadata": {},
     "output_type": "execute_result"
    }
   ],
   "source": [
    "df[\"Location\"].nunique()"
   ]
  },
  {
   "cell_type": "markdown",
   "id": "47b983a5",
   "metadata": {},
   "source": [
    "- locations taken are from united states"
   ]
  },
  {
   "cell_type": "code",
   "execution_count": 70,
   "id": "d18086be",
   "metadata": {},
   "outputs": [
    {
     "data": {
      "text/plain": [
       "Los Angeles      226\n",
       "New York         204\n",
       "Dallas           187\n",
       "Atlanta          185\n",
       "San Francisco    184\n",
       "Chicago          183\n",
       "Miami            183\n",
       "Houston          181\n",
       "Seattle          180\n",
       "Phoenix          171\n",
       "Name: Location, dtype: int64"
      ]
     },
     "execution_count": 70,
     "metadata": {},
     "output_type": "execute_result"
    }
   ],
   "source": [
    "df[\"Location\"].value_counts()"
   ]
  },
  {
   "cell_type": "markdown",
   "id": "86f951f5",
   "metadata": {},
   "source": [
    "- losangeles is having the most manufacture followed by new york then dallas"
   ]
  },
  {
   "cell_type": "code",
   "execution_count": 75,
   "id": "dcf885ce",
   "metadata": {},
   "outputs": [
    {
     "data": {
      "text/plain": [
       "(array([0, 1, 2, 3, 4, 5, 6, 7, 8, 9]),\n",
       " [Text(0, 0, 'Los Angeles'),\n",
       "  Text(1, 0, 'New York'),\n",
       "  Text(2, 0, 'Chicago'),\n",
       "  Text(3, 0, 'Miami'),\n",
       "  Text(4, 0, 'San Francisco'),\n",
       "  Text(5, 0, 'Dallas'),\n",
       "  Text(6, 0, 'Atlanta'),\n",
       "  Text(7, 0, 'Phoenix'),\n",
       "  Text(8, 0, 'Houston'),\n",
       "  Text(9, 0, 'Seattle')])"
      ]
     },
     "execution_count": 75,
     "metadata": {},
     "output_type": "execute_result"
    },
    {
     "data": {
      "image/png": "[encoded data removed]",
      "text/plain": [
       "<Figure size 640x480 with 1 Axes>"
      ]
     },
     "metadata": {},
     "output_type": "display_data"
    }
   ],
   "source": [
    "sns.countplot(df,x=\"Location\",hue=\"Year\")\n",
    "plt.legend(bbox_to_anchor=(1.5,1), loc='upper right')\n",
    "plt.xticks(rotation=90)"
   ]
  },
  {
   "cell_type": "markdown",
   "id": "5b1fe874",
   "metadata": {},
   "source": [
    "- 2017 was the most productive year in los angeles for automobile manufacturing and 2019 and 2020 becomes the least\n",
    "- new york gained most in 2016 and least in 2019\n",
    "- 2017 and 2015 were the most manufactured year but for sanfrancisco 2017 was the least"
   ]
  },
  {
   "cell_type": "code",
   "execution_count": 77,
   "id": "cbc41b13",
   "metadata": {},
   "outputs": [
    {
     "data": {
      "text/plain": [
       "array(['Honda'], dtype=object)"
      ]
     },
     "execution_count": 77,
     "metadata": {},
     "output_type": "execute_result"
    }
   ],
   "source": [
    "new_df=df[df[\"Location\"]==\"New York\"]\n",
    "new_df[\"Brand\"].unique()"
   ]
  },
  {
   "cell_type": "code",
   "execution_count": 78,
   "id": "a18ce037",
   "metadata": {},
   "outputs": [
    {
     "data": {
      "text/plain": [
       "array(['Toyota'], dtype=object)"
      ]
     },
     "execution_count": 78,
     "metadata": {},
     "output_type": "execute_result"
    }
   ],
   "source": [
    "los_df=df[df[\"Location\"]==\"Los Angeles\"]\n",
    "los_df[\"Brand\"].unique()"
   ]
  },
  {
   "cell_type": "code",
   "execution_count": 79,
   "id": "cb95dbbc",
   "metadata": {},
   "outputs": [
    {
     "data": {
      "text/plain": [
       "(array([0, 1, 2, 3, 4, 5, 6, 7, 8, 9]),\n",
       " [Text(0, 0, 'Los Angeles'),\n",
       "  Text(1, 0, 'New York'),\n",
       "  Text(2, 0, 'Chicago'),\n",
       "  Text(3, 0, 'Miami'),\n",
       "  Text(4, 0, 'San Francisco'),\n",
       "  Text(5, 0, 'Dallas'),\n",
       "  Text(6, 0, 'Atlanta'),\n",
       "  Text(7, 0, 'Phoenix'),\n",
       "  Text(8, 0, 'Houston'),\n",
       "  Text(9, 0, 'Seattle')])"
      ]
     },
     "execution_count": 79,
     "metadata": {},
     "output_type": "execute_result"
    },
    {
     "data": {
      "image/png": "[encoded data removed]",
      "text/plain": [
       "<Figure size 640x480 with 1 Axes>"
      ]
     },
     "metadata": {},
     "output_type": "display_data"
    }
   ],
   "source": [
    "sns.countplot(df,x=\"Location\",hue=\"Brand\")\n",
    "plt.legend(bbox_to_anchor=(1.5,1), loc='upper right')\n",
    "plt.xticks(rotation=90)"
   ]
  },
  {
   "cell_type": "code",
   "execution_count": 80,
   "id": "36b4f9e4",
   "metadata": {},
   "outputs": [
    {
     "data": {
      "text/plain": [
       "array(['Hyundai'], dtype=object)"
      ]
     },
     "execution_count": 80,
     "metadata": {},
     "output_type": "execute_result"
    }
   ],
   "source": [
    "df[df[\"Location\"]==\"San Francisco\"][\"Brand\"].unique()"
   ]
  },
  {
   "cell_type": "code",
   "execution_count": 81,
   "id": "337b7c08",
   "metadata": {},
   "outputs": [
    {
     "data": {
      "text/plain": [
       "array(['Toyota'], dtype=object)"
      ]
     },
     "execution_count": 81,
     "metadata": {},
     "output_type": "execute_result"
    }
   ],
   "source": [
    "df[df[\"Location\"]==\"Dallas\"][\"Brand\"].unique()"
   ]
  },
  {
   "cell_type": "markdown",
   "id": "2a49de62",
   "metadata": {},
   "source": [
    "- there seem to be some mistakes in manufacturing of brands in certain states\n",
    "- each state is restricted to a certain brand only\n",
    "- the chances are less for the above conclusion\n",
    "-  the given states are not the major hub for automobile manufacturing but still it cannot be restricted to a certain area"
   ]
  },
  {
   "cell_type": "markdown",
   "id": "84f7c53f",
   "metadata": {},
   "source": [
    "# conclusions"
   ]
  },
  {
   "cell_type": "markdown",
   "id": "96f253af",
   "metadata": {},
   "source": [
    "- toyota was the most manufactured brand but still honda civic was the most preferred model\n",
    "- ford was the less manufactured brand , but still had personal wishes towards ford , may be used it less becz of the maintenance cost and parts cost\n",
    "- white and blue were the most manufactured colors most probably becz the reflecting effect , visibility ,resale value and ease of maintenance\n",
    "- mileage values didnt seem to be meaningful\n",
    "- los angeles was the most manufactured state in us according to the data\n",
    "- 2015 and 2017 was the most productive year in the automobile field in us and 2020 the least the reaosn can be covid"
   ]
  },
  {
   "cell_type": "code",
   "execution_count": null,
   "id": "209f3017",
   "metadata": {},
   "outputs": [],
   "source": []
  }
 ],
 "metadata": {
  "kernelspec": {
   "display_name": "Python 3 (ipykernel)",
   "language": "python",
   "name": "python3"
  },
  "language_info": {
   "codemirror_mode": {
    "name": "ipython",
    "version": 3
   },
   "file_extension": ".py",
   "mimetype": "text/x-python",
   "name": "python",
   "nbconvert_exporter": "python",
   "pygments_lexer": "ipython3",
   "version": "3.10.9"
  }
 },
 "nbformat": 4,
 "nbformat_minor": 5
}
